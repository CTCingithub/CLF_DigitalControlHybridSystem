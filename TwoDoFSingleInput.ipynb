{
 "cells": [
  {
   "attachments": {},
   "cell_type": "markdown",
   "metadata": {},
   "source": [
    "# 两自由度欠驱动系统例子"
   ]
  },
  {
   "attachments": {},
   "cell_type": "markdown",
   "metadata": {},
   "source": [
    "两自由度的线性系统，动力学方程为：\n",
    "\n",
    "$$\n",
    "M \\begin{pmatrix}\n",
    "    \\ddot{x}_{1} \\\\ \\ddot{x}_{2}\n",
    "\\end{pmatrix} + C \\begin{pmatrix}\n",
    "    \\dot{x}_{1} \\\\ \\dot{x}_{2}\n",
    "\\end{pmatrix} + K \\begin{pmatrix}\n",
    "    x_{1} \\\\ x_{2}\n",
    "\\end{pmatrix} = \\begin{bmatrix}\n",
    "    u \\\\ 0\n",
    "\\end{bmatrix}\n",
    "$$\n",
    "\n",
    "其中，\n",
    "\n",
    "$$\n",
    "M = \\begin{bmatrix}\n",
    "    m_{1} & 0 \\\\\n",
    "    0 & m_{2}\n",
    "\\end{bmatrix},\n",
    "C = \\begin{bmatrix}\n",
    "    c_{1} + c_{2} & - c_{2} \\\\\n",
    "    - c_{2} & c_{1} + c_{2}\n",
    "\\end{bmatrix},\n",
    "K = \\begin{bmatrix}\n",
    "    k_{1} + k_{2} & - k_{2} \\\\\n",
    "    - k_{2} & k_{1} + k_{2}\n",
    "\\end{bmatrix}.\n",
    "$$\n",
    "\n",
    "参考《振动力学》P247例子，物理参数设定为\n",
    "\n",
    "$$\n",
    "\\begin{aligned}\n",
    "    m_{1} = 1(kg), & m_{2} = 1.5(kg), \\\\\n",
    "    c_{1} = 0.6284 (N \\cdot s/m), & c_{2} = 0.0628 (N \\cdot s/m), \\\\\n",
    "    k_{1} = 987 (N/m), & k_{2} = 217 (N/m).\n",
    "\\end{aligned}\n",
    "$$\n"
   ]
  },
  {
   "cell_type": "code",
   "execution_count": 4,
   "metadata": {},
   "outputs": [
    {
     "name": "stdout",
     "output_type": "stream",
     "text": [
      "M = [[1.  0. ]\n",
      " [0.  1.5]]\n",
      "C = [[ 0.6912 -0.0628]\n",
      " [-0.0628  0.6912]]\n",
      "K = [[1204 -217]\n",
      " [-217 1204]]\n"
     ]
    }
   ],
   "source": [
    "import numpy as np\n",
    "from IPython.display import display, Latex\n",
    "\n",
    "m1 = 1\n",
    "m2 = 1.5\n",
    "c1 = 0.6284\n",
    "c2 = 0.0628\n",
    "k1 = 987\n",
    "k2 = 217\n",
    "\n",
    "M = np.array([[m1, 0], [0, m2]])\n",
    "C = np.array([[c1 + c2, -c2], [-c2, c1 + c2]])\n",
    "K = np.array([[k1 + k2, -k2], [-k2, k1 + k2]])\n",
    "\n",
    "print(\"M =\", M)\n",
    "print(\"C =\", C)\n",
    "print(\"K =\", K)\n"
   ]
  },
  {
   "attachments": {},
   "cell_type": "markdown",
   "metadata": {},
   "source": [
    "计算得到质量阵、阻尼阵、刚度阵分别为\n",
    "\n",
    "$$\n",
    "M = \\begin{bmatrix}\n",
    "    1 & 0 \\\\\n",
    "    0 & 1.5\n",
    "\\end{bmatrix},\n",
    "C = \\begin{bmatrix}\n",
    "    0.6912 & -0.0628 \\\\\n",
    "    -0.0628 & 0.6912\n",
    "\\end{bmatrix},\n",
    "K = \\begin{bmatrix}\n",
    "    1204 & -217 \\\\\n",
    "    -217 & 1204\n",
    "\\end{bmatrix}.\n",
    "$$\n"
   ]
  },
  {
   "cell_type": "code",
   "execution_count": 9,
   "metadata": {},
   "outputs": [
    {
     "data": {
      "text/latex": [
       "$\\mathcal{A} = $"
      ],
      "text/plain": [
       "<IPython.core.display.Latex object>"
      ]
     },
     "metadata": {},
     "output_type": "display_data"
    },
    {
     "name": "stdout",
     "output_type": "stream",
     "text": [
      "[[ 0.00000000e+00  0.00000000e+00  1.00000000e+00  0.00000000e+00]\n",
      " [ 0.00000000e+00  0.00000000e+00  0.00000000e+00  1.00000000e+00]\n",
      " [-1.20400000e+03  2.17000000e+02 -6.91200000e-01  6.28000000e-02]\n",
      " [ 1.44666667e+02 -8.02666667e+02  4.18666667e-02 -4.60800000e-01]]\n"
     ]
    }
   ],
   "source": [
    "SystemMatrix = np.concatenate(\n",
    "    (np.concatenate((np.zeros((2, 2)), np.identity(2)), axis=1),\n",
    "     np.concatenate((-np.linalg.inv(M) @ K, -np.linalg.inv(M) @ C), axis=1)),\n",
    "    axis=0)\n",
    "InputMatrix = np.array([[0], [0], [1], [0]])\n",
    "\n",
    "display(Latex(\"$\\mathcal{A} = $\"))\n",
    "print(SystemMatrix)\n"
   ]
  },
  {
   "attachments": {},
   "cell_type": "markdown",
   "metadata": {},
   "source": [
    "可写出状态空间方程：\n",
    "\n",
    "$$\n",
    "\\begin{aligned}\n",
    "    \\frac{d}{d t} \\begin{pmatrix}\n",
    "        x_{1} \\\\ x_{2} \\\\ \\dot{x}_{1} \\\\ \\dot{x}_{2}\n",
    "    \\end{pmatrix} &= \\begin{bmatrix}\n",
    "        \\mathbf{0} & I \\\\\n",
    "        - M^{-1} K & - M^{-1} C\n",
    "    \\end{bmatrix} \\begin{pmatrix}\n",
    "        x_{1} \\\\ x_{2} \\\\ \\dot{x}_{1} \\\\ \\dot{x}_{2}\n",
    "    \\end{pmatrix} + \\begin{pmatrix}\n",
    "        0 \\\\ 0 \\\\ 1 \\\\0\n",
    "    \\end{pmatrix} u \\\\\n",
    "    &= \\mathcal{A} \\begin{pmatrix}\n",
    "        x_{1} \\\\ x_{2} \\\\ \\dot{x}_{1} \\\\ \\dot{x}_{2}\n",
    "    \\end{pmatrix} + \\begin{pmatrix}\n",
    "        0 \\\\ 0 \\\\ 1 \\\\0\n",
    "    \\end{pmatrix} u\n",
    "\\end{aligned}\n",
    "$$\n",
    "\n",
    "其中，\n",
    "\n",
    "$$\n",
    "\\begin{aligned}\n",
    "\\mathcal{A} &= \\begin{bmatrix}\n",
    "        \\mathbf{0} & I \\\\\n",
    "        - M^{-1} K & - M^{-1} C\n",
    "    \\end{bmatrix} \\\\\n",
    "    &= \\begin{bmatrix}\n",
    "        0 & 0 & 1 & 0 \\\\\n",
    "        0 & 0 & 0 & 1 \\\\\n",
    "        -1204 & 217 & -0.6912 & 0.0628 \\\\\n",
    "        144.667 & -802.667 & 0.0418667 & -0.4608\n",
    "    \\end{bmatrix}\n",
    "\\end{aligned}\n",
    "$$\n"
   ]
  },
  {
   "attachments": {},
   "cell_type": "markdown",
   "metadata": {},
   "source": [
    "定义CLF函数\n",
    "\n",
    "$$\n",
    "V = \\frac{1}{2} \\begin{pmatrix}\n",
    "        x_{1} \\\\ x_{2} \\\\ \\dot{x}_{1} \\\\ \\dot{x}_{2}\n",
    "    \\end{pmatrix}^{\\top} H \\begin{pmatrix}\n",
    "        x_{1} \\\\ x_{2} \\\\ \\dot{x}_{1} \\\\ \\dot{x}_{2}\n",
    "    \\end{pmatrix}\n",
    "    = \\frac{1}{2} \\begin{pmatrix}\n",
    "        x_{1} \\\\ x_{2} \\\\ \\dot{x}_{1} \\\\ \\dot{x}_{2}\n",
    "    \\end{pmatrix}^{\\top} \\begin{bmatrix}\n",
    "        1 & 0 & 0 & 0 \\\\\n",
    "        0 & 0.5 & 0 & 0 \\\\\n",
    "        0 & 0 & 0.01 & 0 \\\\\n",
    "        0 & 0 & 0 & 0.01\n",
    "    \\end{bmatrix} \\begin{pmatrix}\n",
    "        x_{1} \\\\ x_{2} \\\\ \\dot{x}_{1} \\\\ \\dot{x}_{2}\n",
    "    \\end{pmatrix}\n",
    "$$\n",
    "\n",
    "要求找到增益的取值范围，使得CLF函数满足如下指数稳定性\n",
    "\n",
    "$$\n",
    "\\frac{d V}{d t} + \\lambda V < 0\n",
    "$$\n",
    "\n",
    "在本例中，取$\\lambda = 0.8$"
   ]
  },
  {
   "cell_type": "code",
   "execution_count": 6,
   "metadata": {},
   "outputs": [
    {
     "name": "stdout",
     "output_type": "stream",
     "text": [
      "H = [[1.   0.   0.   0.  ]\n",
      " [0.   0.5  0.   0.  ]\n",
      " [0.   0.   0.01 0.  ]\n",
      " [0.   0.   0.   0.01]]\n"
     ]
    }
   ],
   "source": [
    "H = np.diag(np.array([1, 0.5, 0.01, 0.01]))\n",
    "print(\"H =\", H)\n"
   ]
  },
  {
   "attachments": {},
   "cell_type": "markdown",
   "metadata": {},
   "source": [
    "验证系统的可控性\n"
   ]
  },
  {
   "cell_type": "code",
   "execution_count": 18,
   "metadata": {},
   "outputs": [
    {
     "data": {
      "text/plain": [
       "True"
      ]
     },
     "execution_count": 18,
     "metadata": {},
     "output_type": "execute_result"
    }
   ],
   "source": [
    "np.linalg.matrix_rank(\n",
    "    np.concatenate((InputMatrix, SystemMatrix @ InputMatrix,\n",
    "                    SystemMatrix @ SystemMatrix @ InputMatrix,\n",
    "                    SystemMatrix @ SystemMatrix @ SystemMatrix @ InputMatrix),\n",
    "                   axis=1)) == SystemMatrix.shape[0]\n"
   ]
  },
  {
   "attachments": {},
   "cell_type": "markdown",
   "metadata": {},
   "source": [
    "若考虑数字采样和时滞，作如下假设。假设系统的采样周期为$\\tau = 0.01s$，当$t = \\lfloor \\frac{t}{\\tau} \\rfloor \\tau + t_{0}= N \\tau + t_{0}$时\n",
    "\n",
    "$$\n",
    "u = k_{p} x_{1}(N \\tau) + k_{d} \\dot{x}_{2}((N - 1) \\tau)\n",
    "$$\n"
   ]
  }
 ],
 "metadata": {
  "kernelspec": {
   "display_name": "KoopmanControlSystem",
   "language": "python",
   "name": "pytorch"
  },
  "language_info": {
   "codemirror_mode": {
    "name": "ipython",
    "version": 3
   },
   "file_extension": ".py",
   "mimetype": "text/x-python",
   "name": "python",
   "nbconvert_exporter": "python",
   "pygments_lexer": "ipython3",
   "version": "3.10.9"
  },
  "orig_nbformat": 4
 },
 "nbformat": 4,
 "nbformat_minor": 2
}
